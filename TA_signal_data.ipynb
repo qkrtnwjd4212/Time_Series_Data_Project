{
  "nbformat": 4,
  "nbformat_minor": 0,
  "metadata": {
    "colab": {
      "provenance": [],
      "authorship_tag": "ABX9TyNf7+SV44ZDwn7UhpD+6dSA",
      "include_colab_link": true
    },
    "kernelspec": {
      "name": "python3",
      "display_name": "Python 3"
    },
    "language_info": {
      "name": "python"
    }
  },
  "cells": [
    {
      "cell_type": "markdown",
      "metadata": {
        "id": "view-in-github",
        "colab_type": "text"
      },
      "source": [
        "<a href=\"https://colab.research.google.com/github/qkrtnwjd4212/Time_Series_Data_Project/blob/main/TA_signal_data.ipynb\" target=\"_parent\"><img src=\"https://colab.research.google.com/assets/colab-badge.svg\" alt=\"Open In Colab\"/></a>"
      ]
    },
    {
      "cell_type": "code",
      "source": [
        "!pip install numpy==1.25.2 --force-reinstall"
      ],
      "metadata": {
        "id": "lh2rzxYFUCff"
      },
      "execution_count": null,
      "outputs": []
    },
    {
      "cell_type": "code",
      "source": [
        "!pip install pandas_ta yfinance --upgrade"
      ],
      "metadata": {
        "id": "SqizAWDSjxEP"
      },
      "execution_count": null,
      "outputs": []
    },
    {
      "cell_type": "code",
      "source": [
        "import yfinance as yf\n",
        "import pandas as pd\n",
        "import matplotlib.pyplot as plt\n",
        "import numpy as np\n",
        "from datetime import datetime, timedelta\n",
        "import pandas_ta as pta\n",
        "\n",
        "#import pygad"
      ],
      "metadata": {
        "id": "A_I-vaVRHEjp"
      },
      "execution_count": null,
      "outputs": []
    },
    {
      "cell_type": "code",
      "source": [
        "#gdrive 마운트\n",
        "from google.colab import drive\n",
        "drive.mount('/content/gdrive')"
      ],
      "metadata": {
        "colab": {
          "base_uri": "https://localhost:8080/"
        },
        "id": "yLlvi9DpyOfC",
        "outputId": "a8d1d1ba-9b7b-4bb7-c5e6-4b0f31df016f"
      },
      "execution_count": null,
      "outputs": [
        {
          "output_type": "stream",
          "name": "stdout",
          "text": [
            "Mounted at /content/gdrive\n"
          ]
        }
      ]
    },
    {
      "cell_type": "code",
      "source": [
        "cd \"/content/gdrive/MyDrive/Colab Notebooks/stock\""
      ],
      "metadata": {
        "colab": {
          "base_uri": "https://localhost:8080/"
        },
        "id": "XVqeroP4yP_q",
        "outputId": "8826517d-b064-467f-bbae-33e71d2a84c8"
      },
      "execution_count": null,
      "outputs": [
        {
          "output_type": "stream",
          "name": "stdout",
          "text": [
            "/content/gdrive/MyDrive/Colab Notebooks/stock\n"
          ]
        }
      ]
    },
    {
      "cell_type": "code",
      "source": [
        "# 종목 리스트 - 소비재 섹터 내 10개 대표 종목\n",
        "tickers = [\"HD\", \"MCD\", \"LOW\", \"TJX\", \"SBUX\", \"NKE\", \"MAR\", \"CMG\", \"ORLY\", \"TGT\"]\n",
        "\n",
        "# 결과를 담을 빈 리스트\n",
        "all_dfs = []"
      ],
      "metadata": {
        "id": "_hML8w7SbgJf"
      },
      "execution_count": null,
      "outputs": []
    },
    {
      "cell_type": "code",
      "execution_count": null,
      "metadata": {
        "id": "Lwl2Cp5H8oaV"
      },
      "outputs": [],
      "source": [
        "for ticker in tickers:\n",
        "\n",
        "  # 2.1 기본 가격 데이터 다운로드\n",
        "  df = yf.download(ticker, start=\"2022-01-01\", end=\"2024-12-31\", interval=\"1d\", auto_adjust=False,  progress=False)\n",
        "  df = df[[\"Open\",\"High\",\"Low\",\"Close\",\"Adj Close\",\"Volume\"]].dropna()\n",
        "\n",
        "  # 2.2 MultiIndex 하나로 평탄화\n",
        "  if isinstance(df.columns, pd.MultiIndex):\n",
        "      df.columns = df.columns.get_level_values(0)\n",
        "\n",
        "  # 2.3 30개 TA 지표 계산\n",
        "  # — 추세 지표 —\n",
        "  df.ta.sma(length=20, append=True); df.ta.sma(length=60, append=True)\n",
        "  df.ta.ema(length=20, append=True); df.ta.ema(length=60, append=True)\n",
        "  df.ta.wma(length=20, append=True); df.ta.wma(length=60, append=True)\n",
        "  df.ta.hma(length=20, append=True); df.ta.hma(length=60, append=True)\n",
        "  df.ta.macd(append=True)\n",
        "  df.ta.psar(append=True)\n",
        "  df.ta.tema(length=20, append=True)\n",
        "  df.ta.adx(append=True)\n",
        "\n",
        "  # — 모멘텀 지표 —\n",
        "  df.ta.rsi(length=14, append=True)\n",
        "  df.ta.stoch(append=True)\n",
        "  df.ta.roc(length=10, append=True)\n",
        "  df.ta.cci(length=20, append=True)\n",
        "  df.ta.mom(length=10, append=True)\n",
        "  df.ta.trix(length=15, append=True)\n",
        "  df.ta.cmo(length=14, append=True)\n",
        "  df.ta.tsi(append=True)\n",
        "\n",
        "  # — 변동성 지표 —\n",
        "  df.ta.atr(length=14, append=True)\n",
        "  df.ta.bbands(length=20, append=True)\n",
        "  df.ta.kc(append=True)\n",
        "  df.ta.donchian(append=True)\n",
        "  df.ta.natr(length=14, append=True)\n",
        "\n",
        "  # — 거래량 지표 —\n",
        "  df.ta.obv(append=True)\n",
        "  df.ta.mfi(length=14, append=True)\n",
        "  df.ta.ad(append=True)\n",
        "  df.ta.efi(append=True)\n",
        "  df.ta.cmf(length=20, append=True)\n",
        "\n",
        "  # — 기타/종합 지표 —\n",
        "  df.ta.vwap(append=True)\n",
        "  df.ta.dpo(length=20, append=True)\n",
        "  df.ta.pgo(append=True)\n",
        "  df.ta.bop(append=True)\n",
        "\n",
        "  # 2.4 Ticker 칼럼 추가\n",
        "  df[\"Ticker\"] = ticker\n",
        "\n",
        "  # 2.5 리스트에 저장\n",
        "  all_dfs.append(df)\n",
        "\n",
        "# DataFrame으로 합치고 CSV 저장\n",
        "all_df = pd.concat(all_dfs)\n",
        "all_df.to_csv(\"TA_data_30.csv\", index=True)\n",
        "\n",
        "print(\"✅ 저장 완료: TA_data_30_.csv\")"
      ]
    },
    {
      "cell_type": "code",
      "source": [
        "# 1) CSV 로드\n",
        "df = pd.read_csv(\"TA_data_30.csv\", index_col=0)\n",
        "df = df.sort_values([\"Ticker\", df.index.name])\n",
        "\n",
        "# 2) 빈 signals DataFrame 생성 (날짜 인덱스만)\n",
        "signals = pd.DataFrame(index=df.index)\n",
        "\n",
        "# === 1. 추세(Trend) 지표 ===\n",
        "\n",
        "# 1-1) SMA(20) 기울기\n",
        "signals['SMA_signal'] = 0\n",
        "# 골든크로스 : 단기 MA가 장기 MA를 상향 돌파, 데드크로스 : 단기 MA가 장기 MA를 하향 돌파\n",
        "signals.loc[(df['SMA_20'].shift(1) <= df['SMA_60'].shift(1)) & (df['SMA_20'] > df['SMA_60']), 'SMA_signal'] = -1 # 매수\n",
        "signals.loc[(df['SMA_20'].shift(1) >= df['SMA_60'].shift(1)) & (df['SMA_20'] < df['SMA_60']), 'SMA_signal'] = 1 # 매도\n",
        "\n",
        "# 1-2) EMA(20) 기울기\n",
        "signals['EMA_signal'] = 0\n",
        "signals.loc[(df['EMA_20'].shift(1) <= df['EMA_60'].shift(1)) & (df['EMA_20'] > df['EMA_60']), 'EMA_signal'] = -1 # 매수\n",
        "signals.loc[(df['EMA_20'].shift(1) >= df['EMA_60'].shift(1)) & (df['EMA_20'] < df['EMA_60']), 'EMA_signal'] = 1 # 매도\n",
        "\n",
        "# 1-3) WMA(20) 기울기\n",
        "signals['WMA_signal'] = 0\n",
        "signals.loc[(df['WMA_20'].shift(1) <= df['WMA_60'].shift(1)) & (df['WMA_20'] > df['WMA_60']), 'WMA_signal'] = -1 # 매수\n",
        "signals.loc[(df['WMA_20'].shift(1) >= df['WMA_60'].shift(1)) & (df['WMA_20'] < df['WMA_60']), 'WMA_signal'] = 1 # 매도\n",
        "\n",
        "# 1-4) HMA(20) 기울기\n",
        "signals['HMA_signal'] = 0\n",
        "signals.loc[(df['HMA_20'].shift(1) <= df['HMA_60'].shift(1)) & (df['HMA_20'] > df['HMA_60']), 'HMA_signal'] = -1 # 매수\n",
        "signals.loc[(df['HMA_20'].shift(1) >= df['HMA_60'].shift(1)) & (df['HMA_20'] < df['HMA_60']), 'HMA_signal'] = 1 # 매도\n",
        "\n",
        "# 1-5) TEMA(20) 기울기\n",
        "signals['TEMA_signal'] = 0\n",
        "# 가격이 TEMA 위/아래에 위치할 뿐만 아니라 방향성 고려\n",
        "tema_up = (df[\"Close\"] > df[\"TEMA_20\"]) & (df[\"TEMA_20\"].diff() > 0)\n",
        "tema_down = (df[\"Close\"] < df[\"TEMA_20\"]) & (df[\"TEMA_20\"].diff() < 0)\n",
        "signals.loc[tema_up, \"TEMA_signal\"] = -1\n",
        "signals.loc[tema_down, \"TEMA_signal\"] = 1\n",
        "\n",
        "# 1-6) MACD 교차\n",
        "signals['MACD_signal'] = 0\n",
        "# MACD: MACD 라인이 signal선보다 위에 있고, 양수 영역일 때만 매수 시그널\n",
        "macd_up = (df[\"MACD_12_26_9\"] > df[\"MACDs_12_26_9\"]) & (df[\"MACD_12_26_9\"] > 0)\n",
        "macd_down = (df[\"MACD_12_26_9\"] < df[\"MACDs_12_26_9\"]) & (df[\"MACD_12_26_9\"] < 0)\n",
        "signals.loc[macd_up, \"MACD_signal\"] = -1\n",
        "signals.loc[macd_down, \"MACD_signal\"] = 1\n",
        "\n",
        "# 1-7) PSAR 반전\n",
        "signals['PSAR_signal'] = 0\n",
        "# signals.loc[df[\"Close\"] > df[\"PSARs_0.02_0.2\"], \"PSAR_signal\"] = -1\n",
        "# signals.loc[df[\"Close\"] < df[\"PSARl_0.02_0.2\"], \"PSAR_signal\"] = 1\n",
        "\n",
        "# PSAR 반전 조건을 완화하여 민감도 증가\n",
        "psar_buy_cond = (df[\"Close\"] > df[\"PSARs_0.02_0.2\"]) & (df[\"PSARaf_0.02_0.2\"] > 0.02)\n",
        "psar_sell_cond = (df[\"Close\"] < df[\"PSARl_0.02_0.2\"]) & (df[\"PSARaf_0.02_0.2\"] > 0.02)\n",
        "signals.loc[psar_buy_cond, \"PSAR_signal\"] = -1\n",
        "signals.loc[psar_sell_cond, \"PSAR_signal\"] = 1\n",
        "\n",
        "# 1-8) ADX 시스템 (+DI vs -DI)\n",
        "signals['DI_signal'] = 0\n",
        "signals.loc[df['DMP_14'] > df['DMN_14'], 'DI_signal'] = -1\n",
        "signals.loc[df['DMP_14'] < df['DMN_14'], 'DI_signal'] = 1\n",
        "\n",
        "\n",
        "# === 2. 모멘텀(Momentum) 지표 ===\n",
        "\n",
        "# 2-1) RSI\n",
        "signals['RSI_signal'] = 0\n",
        "# 매수 조건: 과매도 + 최근 하락 추세 반전\n",
        "buy_cond = (df['RSI_14'] < 25) & (df['RSI_14'] > df['RSI_14'].shift(1))\n",
        "signals.loc[buy_cond, 'RSI_signal'] = -1\n",
        "# 매도 조건: 과매수 + RSI 하락 반전\n",
        "sell_cond = (df['RSI_14'] > 75) & (df['RSI_14'] < df['RSI_14'].shift(1))\n",
        "signals.loc[sell_cond, 'RSI_signal'] = 1\n",
        "\n",
        "# 2-2) Stochastic:  과매도 구간에서 %K가 %D 상향 돌파할 때만 매수\n",
        "signals['STOCH_signal'] = 0\n",
        "signals.loc[\n",
        "    (df['STOCHk_14_3_3'] > df['STOCHd_14_3_3']) & (df['STOCHk_14_3_3'].shift(1) <= df['STOCHd_14_3_3'].shift(1)),\n",
        "    'STOCH_signal'] = -1\n",
        "signals.loc[\n",
        "    (df['STOCHk_14_3_3'] < df['STOCHd_14_3_3']) & (df['STOCHk_14_3_3'].shift(1) >= df['STOCHd_14_3_3'].shift(1)),\n",
        "    'STOCH_signal'] = 1\n",
        "\n",
        "# 2-3) ROC_10 (부호로만 판단)\n",
        "signals['ROC_signal'] = 0\n",
        "signals.loc[df['ROC_10'] > 0.01, 'ROC_signal'] = -1 # ROC > 0 (강세 모멘텀) -> 매수\n",
        "signals.loc[df['ROC_10'] < -0.01, 'ROC_signal'] = 1 # ROC < 0 (약세 모멘텀) -> 매도\n",
        "\n",
        "# 2-4) CCI\n",
        "signals['CCI_signal'] = 0\n",
        "signals.loc[df['CCI_20_0.015'] < -100, 'CCI_signal'] = -1\n",
        "signals.loc[df['CCI_20_0.015'] > 100, 'CCI_signal'] = 1\n",
        "\n",
        "# 2-5) MOM\n",
        "signals['MOM_signal'] = 0\n",
        "signals.loc[df['MOM_10'] > 0, 'MOM_signal'] = -1 # MOM > 0 (강세 모멘텀) -> 매수\n",
        "signals.loc[df['MOM_10'] < 0, 'MOM_signal'] = 1 # MOM < 0 (약세 모멘텀) -> 매도\n",
        "\n",
        "# 2-6) TRIX 교차\n",
        "signals['TRIX_signal'] = 0\n",
        "signals.loc[df['TRIX_15_9'] > df['TRIXs_15_9'], 'TRIX_signal'] = -1\n",
        "signals.loc[df['TRIX_15_9'] < df['TRIXs_15_9'], 'TRIX_signal'] = 1\n",
        "\n",
        "# 2-7) CMO\n",
        "signals['CMO_signal'] = 0\n",
        "signals.loc[df['CMO_14'] < -50, 'CMO_signal'] = -1\n",
        "signals.loc[df['CMO_14'] > 50,  'CMO_signal'] = 1\n",
        "\n",
        "# 2-8) TSI vs Signal\n",
        "signals['TSI_signal'] = 0\n",
        "signals.loc[df['TSI_13_25_13'] > df['TSIs_13_25_13'], 'TSI_signal'] = -1\n",
        "signals.loc[df['TSI_13_25_13'] < df['TSIs_13_25_13'], 'TSI_signal'] = 1\n",
        "\n",
        "\n",
        "# === 3. 변동성(Volatility) 지표 ===\n",
        "\n",
        "# 3-1) ATR Ratio 변화\n",
        "signals['ATRr_signal'] = 0\n",
        "delta_atr = df['ATRr_14'].diff()\n",
        "signals.loc[delta_atr > 0.2, 'ATRr_signal'] = 1\n",
        "signals.loc[delta_atr < -0.2, 'ATRr_signal'] = -1\n",
        "\n",
        "# 3-2) Bolinget Band\n",
        "signals[\"BB_signal\"] = 0\n",
        "# 매수 시그널: 가격이 하단 근처(0.1 이하) + 밴드가 확장되고 있음 (변동성 증가 → 상승 가능성)\n",
        "buy_cond = (df[\"BBP_20_2.0\"] < 0.1) & (df[\"BBB_20_2.0\"].diff() > 0)\n",
        "signals.loc[buy_cond, \"BB_signal\"] = -1\n",
        "\n",
        "# 매도 시그널: 가격이 상단 근처(0.9 이상) + 밴드가 축소되고 있음 (상승 피로 → 하락 가능성)\n",
        "sell_cond = (df[\"BBP_20_2.0\"] > 0.9) & (df[\"BBB_20_2.0\"].diff() < 0)\n",
        "signals.loc[sell_cond, \"BB_signal\"] = 1\n",
        "\n",
        "# 3-4) Keltner Channel 돌파\n",
        "signals['KC_signal'] = 0\n",
        "signals.loc[df['Close'] > df['KCUe_20_2'], 'KC_signal'] = -1\n",
        "signals.loc[df['Close'] < df['KCLe_20_2'], 'KC_signal'] = 1\n",
        "\n",
        "# 3-5) Donchian Channel 돌파\n",
        "signals['DC_signal'] = 0\n",
        "# signals.loc[df['Close'] > df['DCU_20_20'], 'DC_signal'] = -1\n",
        "# signals.loc[df['Close'] < df['DCL_20_20'], 'DC_signal'] = 1\n",
        "\n",
        "# Donchian Channel 돌파 시 중간 값(DCM)도 반영하여 매매 기회 증가\n",
        "dc_buy_cond = (df['Close'] > df['DCU_20_20']) | ((df['Close'] > df['DCM_20_20']) & (df['Close'].shift(1) < df['DCM_20_20']))\n",
        "dc_sell_cond = (df['Close'] < df['DCL_20_20']) | ((df['Close'] < df['DCM_20_20']) & (df['Close'].shift(1) > df['DCM_20_20']))\n",
        "signals.loc[dc_buy_cond, 'DC_signal'] = -1\n",
        "signals.loc[dc_sell_cond, 'DC_signal'] = 1\n",
        "\n",
        "# 3-6) NATR 변화\n",
        "signals['NATR_signal'] = 0\n",
        "# signals.loc[df['NATR_14'] > df['NATR_14'].shift(1), 'NATR_signal'] = 1\n",
        "# signals.loc[df['NATR_14'] < df['NATR_14'].shift(1), 'NATR_signal'] = -1\n",
        "signals.loc[df['NATR_14'].diff() > 0.05, 'NATR_signal'] = 1\n",
        "signals.loc[df['NATR_14'].diff() < -0.05, 'NATR_signal'] = -1\n",
        "\n",
        "# === 4. 거래량(Volume) 지표 ===\n",
        "\n",
        "# 4-1) OBV 변화\n",
        "signals['OBV_signal'] = 0\n",
        "delta_obv = df['OBV'].diff()\n",
        "signals.loc[delta_obv > 1e6, 'OBV_signal'] = -1\n",
        "signals.loc[delta_obv < -1e6, 'OBV_signal'] = 1\n",
        "\n",
        "# 4-2) MFI\n",
        "signals['MFI_signal'] = 0\n",
        "signals.loc[df['MFI_14'] < 20, 'MFI_signal'] = -1\n",
        "signals.loc[df['MFI_14'] > 80, 'MFI_signal'] = 1\n",
        "\n",
        "# 4-3) AD (A/D Line) 변화\n",
        "signals['AD_signal'] = 0\n",
        "delta_ad = df['AD'].diff()\n",
        "signals.loc[delta_ad > 1e6, 'AD_signal'] = -1\n",
        "signals.loc[delta_ad < -1e6, 'AD_signal'] = 1\n",
        "\n",
        "# 4-4) EFI 변화\n",
        "signals['EFI_signal'] = 0\n",
        "delta_efi = df['EFI_13'].diff()\n",
        "signals.loc[delta_efi > 1000000, 'EFI_signal'] = -1\n",
        "signals.loc[delta_efi < -1000000, 'EFI_signal'] = 1\n",
        "\n",
        "# 4-5) CMF\n",
        "signals['CMF_signal'] = 0\n",
        "signals.loc[df['CMF_20'] > 0.2, 'CMF_signal'] = -1\n",
        "signals.loc[df['CMF_20'] < -0.2, 'CMF_signal'] = 1\n",
        "\n",
        "\n",
        "# === 5. 기타/종합(Misc) 지표 ===\n",
        "\n",
        "# 5-1) VWAP_D 돌파\n",
        "signals['VWAP_signal'] = 0\n",
        "# signals.loc[df['Close'] > df['VWAP_D'], 'VWAP_signal'] = -1\n",
        "# signals.loc[df['Close'] < df['VWAP_D'], 'VWAP_signal'] = 1\n",
        "signals.loc[(df['Close'] > df['VWAP_D'] * 1.01), 'VWAP_signal'] = -1\n",
        "signals.loc[(df['Close'] < df['VWAP_D'] * 0.99), 'VWAP_signal'] = 1\n",
        "\n",
        "# 5-2) DPO\n",
        "signals['DPO_signal'] = 0\n",
        "# signals.loc[df['DPO_20'] > 0, 'DPO_signal'] = -1\n",
        "# signals.loc[df['DPO_20'] < 0, 'DPO_signal'] = 1\n",
        "signals.loc[df['DPO_20'] > 0.05, 'DPO_signal'] = -1\n",
        "signals.loc[df['DPO_20'] < -0.05, 'DPO_signal'] = 1\n",
        "\n",
        "# 5-3) PGO\n",
        "signals['PGO_signal'] = 0\n",
        "# signals.loc[df['PGO_14'] > df['PGO_14'].shift(1), 'PGO_signal'] = -1\n",
        "# signals.loc[df['PGO_14'] < df['PGO_14'].shift(1), 'PGO_signal'] = 1\n",
        "signals.loc[df['PGO_14'].diff() > 0.02, 'PGO_signal'] = -1\n",
        "signals.loc[df['PGO_14'].diff() < -0.02, 'PGO_signal'] = 1\n",
        "\n",
        "# 5-4) BOP\n",
        "signals['BOP_signal'] = 0\n",
        "# signals.loc[df['BOP'] > 0, 'BOP_signal'] = -1\n",
        "# signals.loc[df['BOP'] < 0, 'BOP_signal'] = 1\n",
        "signals.loc[df['BOP'] > 0.05, 'BOP_signal'] = -1\n",
        "signals.loc[df['BOP'] < -0.05, 'BOP_signal'] = 1\n",
        "\n",
        "signals.fillna(0, inplace=True) # NaN을 0으로 채움\n",
        "\n",
        "# --- 원본 Adj Close 값과 Ticker도 추가 ---\n",
        "signals[\"Adj Close\"] = df[\"Adj Close\"]\n",
        "signals[\"Ticker\"] = df[\"Ticker\"]\n",
        "\n",
        "# 3) CSV 저장\n",
        "signals.to_csv(\"All_TA_signals.csv\", index=True)\n",
        "print(\"✅ 저장 완료: All_TA_signals.csv\")"
      ],
      "metadata": {
        "id": "S5SWEyn_HV-i",
        "colab": {
          "base_uri": "https://localhost:8080/"
        },
        "outputId": "f896add6-6378-4d5e-fd08-ce431cb553f3"
      },
      "execution_count": null,
      "outputs": [
        {
          "output_type": "stream",
          "name": "stdout",
          "text": [
            "✅ 저장 완료: All_TA_signals.csv\n"
          ]
        }
      ]
    },
    {
      "cell_type": "code",
      "source": [
        "# 1. 시그널 파일 불러오기\n",
        "df = pd.read_csv(\"All_TA_signals.csv\")\n",
        "\n",
        "# 2. 시그널 컬럼만 추출\n",
        "signal_cols = [col for col in df.columns if col.endswith('_signal')]\n",
        "\n",
        "# 3. 시그널 카운트 및 빈도 계산\n",
        "counts = []\n",
        "\n",
        "for col in signal_cols:\n",
        "    signal_counts = df[col].value_counts().to_dict()\n",
        "    buy = signal_counts.get(-1, 0)\n",
        "    hold = signal_counts.get(0, 0)\n",
        "    sell = signal_counts.get(1, 0)\n",
        "    total = buy + hold + sell\n",
        "    trade_freq = (buy + sell) / total if total > 0 else 0\n",
        "    counts.append({\n",
        "        \"Signal\": col,\n",
        "        \"Buy (-1)\": buy,\n",
        "        \"Hold (0)\": hold,\n",
        "        \"Sell (1)\": sell,\n",
        "        \"Trade Frequency\": round(trade_freq, 4)\n",
        "    })\n",
        "\n",
        "# 4. 결과 저장\n",
        "summary_df = pd.DataFrame(counts)\n",
        "summary_df.to_csv(\"TA_signal_counts_2.csv\", index=False)\n",
        "\n",
        "print(\"✅ 시그널 카운트 및 트레이드 빈도 저장 완료: TA_signal_counts.csv\")"
      ],
      "metadata": {
        "id": "mqQL-bKuliru",
        "colab": {
          "base_uri": "https://localhost:8080/"
        },
        "outputId": "e7da29a5-d1be-4ac6-9523-68bb1d477cc3"
      },
      "execution_count": null,
      "outputs": [
        {
          "output_type": "stream",
          "name": "stdout",
          "text": [
            "✅ 시그널 카운트 및 트레이드 빈도 저장 완료: TA_signal_counts.csv\n"
          ]
        }
      ]
    },
    {
      "cell_type": "code",
      "source": [
        "print(summary_df)"
      ],
      "metadata": {
        "id": "SLt_hvrqjPW2",
        "colab": {
          "base_uri": "https://localhost:8080/"
        },
        "outputId": "05e9ced3-59f7-4d8e-fce1-bad5b3b44413"
      },
      "execution_count": null,
      "outputs": [
        {
          "output_type": "stream",
          "name": "stdout",
          "text": [
            "          Signal  Buy (-1)  Hold (0)  Sell (1)  Trade Frequency\n",
            "0     SMA_signal        66      7390        64           0.0173\n",
            "1     EMA_signal        60      7401        59           0.0158\n",
            "2     WMA_signal        85      7350        85           0.0226\n",
            "3     HMA_signal       187      7141       192           0.0504\n",
            "4    TEMA_signal      2932      1863      2725           0.7523\n",
            "5    MACD_signal      2392      3219      1909           0.5719\n",
            "6    PSAR_signal         0      7520         0           0.0000\n",
            "7      DI_signal      3898       140      3482           0.9814\n",
            "8     RSI_signal        24      7466        30           0.0072\n",
            "9   STOCH_signal       897      5724       899           0.2388\n",
            "10    ROC_signal      4007       109      3404           0.9855\n",
            "11    CCI_signal      1360      4421      1739           0.4121\n",
            "12    MOM_signal      4010       103      3407           0.9863\n",
            "13   TRIX_signal      3575       230      3715           0.9694\n",
            "14    CMO_signal       120      7206       194           0.0418\n",
            "15    TSI_signal      3832       250      3438           0.9668\n",
            "16   ATRr_signal       511      6435       574           0.1443\n",
            "17     BB_signal       778      6607       135           0.1214\n",
            "18     KC_signal       813      6181       526           0.1781\n",
            "19     DC_signal       406      6700       414           0.1090\n",
            "20   NATR_signal      3113      2609      1798           0.6531\n",
            "21    OBV_signal      3419       808      3293           0.8926\n",
            "22    MFI_signal       198      7085       237           0.0578\n",
            "23     AD_signal      2635      2397      2488           0.6813\n",
            "24    EFI_signal      1611      4387      1522           0.4166\n",
            "25    CMF_signal       901      6129       490           0.1850\n",
            "26   VWAP_signal       213      7067       240           0.0602\n",
            "27    DPO_signal      3449       318      3753           0.9577\n",
            "28    PGO_signal      3609       365      3546           0.9515\n",
            "29    BOP_signal      3665       375      3480           0.9501\n"
          ]
        }
      ]
    },
    {
      "cell_type": "code",
      "source": [],
      "metadata": {
        "id": "AzxjE6rMxU_L"
      },
      "execution_count": null,
      "outputs": []
    }
  ]
}